{
 "cells": [
  {
   "cell_type": "code",
   "execution_count": null,
   "id": "eb44492e",
   "metadata": {},
   "outputs": [],
   "source": [
    "# from huggingface_hub import snapshot_download\n",
    "\n",
    "# snapshot_download(\n",
    "#     repo_id=\"LidongYang/EEG_Image_decode\",\n",
    "#     repo_type=\"dataset\",\n",
    "#     local_dir=\"/ibex/user/thagafhh/data/\",\n",
    "# )/home/thagafhh/work/dreamsim"
   ]
  },
  {
   "cell_type": "code",
   "execution_count": null,
   "id": "668245f3",
   "metadata": {},
   "outputs": [
    {
     "name": "stdout",
     "output_type": "stream",
     "text": [
      "emb_eeg\t\t\t  test_images\n",
      "fintune_ckpts\t\t  test_images.zip\n",
      "generated_imgs.tar.gz\t  train_image_latent_512.pt\n",
      "models\t\t\t  training_images\n",
      "outputs\t\t\t  training_images.zip\n",
      "Preprocessed_data_250Hz   ViT-H-14_features_test.pt\n",
      "preprocessed_MEG\t  ViT-H-14_features_train.pt\n",
      "README.md\t\t  ViT-L-14_features_multimodal_test.pt\n",
      "test_image_latent_512.pt  ViT-L-14_features_multimodal_train.pt\n"
     ]
    }
   ],
   "source": [
    "# !apt-get update -y\n",
    "# !apt-get install git -y\n",
    "# !apt-get install unzip -y\n",
    "# !apt-get install git-lfs -y \n",
    "# !apt-get install wget -y \n",
    "!cd /ibex/user/thagafhh/data/ && git clone --depth 1 https://huggingface.co/datasets/LidongYang/EEG_Image_decode data_fixed\n",
    "/ibex/user/thagafhh/data/dreamsim_data/models"
   ]
  },
  {
   "cell_type": "code",
   "execution_count": 1,
   "id": "75b403dd",
   "metadata": {},
   "outputs": [
    {
     "name": "stdout",
     "output_type": "stream",
     "text": [
      "dcgm  EEG_Image_decode\tmain1.ipynb\n"
     ]
    }
   ],
   "source": [
    "!ls"
   ]
  },
  {
   "cell_type": "code",
   "execution_count": null,
   "id": "7a442c78",
   "metadata": {},
   "outputs": [],
   "source": [
    "!git clone --depth 1 https://huggingface.co/datasets/LidongYang/EEG_Image_decode data"
   ]
  },
  {
   "cell_type": "code",
   "execution_count": 13,
   "id": "439bd04d",
   "metadata": {},
   "outputs": [
    {
     "name": "stdout",
     "output_type": "stream",
     "text": [
      "Cloning into 'EEG_Image_decode'...\n",
      "remote: Enumerating objects: 101, done.\u001b[K\n",
      "remote: Counting objects: 100% (101/101), done.\u001b[K\n",
      "remote: Compressing objects: 100% (77/77), done.\u001b[K\n",
      "remote: Total 101 (delta 38), reused 59 (delta 22), pack-reused 0 (from 0)\u001b[K\n",
      "Receiving objects: 100% (101/101), 13.39 MiB | 4.59 MiB/s, done.\n",
      "Resolving deltas: 100% (38/38), done.\n"
     ]
    }
   ],
   "source": [
    "!git clone --depth 1 https://github.com/dongyangli-del/EEG_Image_decode "
   ]
  },
  {
   "cell_type": "code",
   "execution_count": 18,
   "id": "040c0e57",
   "metadata": {},
   "outputs": [
    {
     "name": "stdout",
     "output_type": "stream",
     "text": [
      "\u001b[0m\u001b[01;34mdcgm\u001b[0m/  \u001b[01;34mEEG_Image_decode\u001b[0m/  main.ipynb  \u001b[01;34mwork_venv\u001b[0m/\n"
     ]
    }
   ],
   "source": [
    "ls"
   ]
  },
  {
   "cell_type": "code",
   "execution_count": null,
   "id": "2d18a744",
   "metadata": {},
   "outputs": [],
   "source": [
    "!wget -O training_images.zip \"https://osf.io/download/3v527/\"\n"
   ]
  },
  {
   "cell_type": "code",
   "execution_count": null,
   "id": "0018fcaf",
   "metadata": {},
   "outputs": [],
   "source": [
    "!wget -O test_images.zip \"https://osf.io/download/znu7b/\""
   ]
  },
  {
   "cell_type": "code",
   "execution_count": null,
   "id": "ffaa8e74",
   "metadata": {},
   "outputs": [],
   "source": [
    "!unzip test_images.zip\n"
   ]
  },
  {
   "cell_type": "code",
   "execution_count": null,
   "id": "6cdaeca9",
   "metadata": {},
   "outputs": [],
   "source": [
    "!unzip training_images.zip"
   ]
  },
  {
   "cell_type": "code",
   "execution_count": null,
   "id": "356d14d4",
   "metadata": {},
   "outputs": [],
   "source": [
    "cd .\n"
   ]
  },
  {
   "cell_type": "code",
   "execution_count": null,
   "id": "53c056c0",
   "metadata": {},
   "outputs": [],
   "source": [
    "!git lfs pull"
   ]
  },
  {
   "cell_type": "code",
   "execution_count": 1,
   "id": "716a0c9a",
   "metadata": {},
   "outputs": [
    {
     "name": "stdout",
     "output_type": "stream",
     "text": [
      "\u001b[0m\u001b[01;35maccuracy_plots.png\u001b[0m            \u001b[01;34mdcgm\u001b[0m/              main1.ipynb\n",
      "\u001b[01;34mdataset_verification_images\u001b[0m/  \u001b[01;34mEEG_Image_decode\u001b[0m/  \u001b[01;35mpos_img_text.png\u001b[0m\n"
     ]
    }
   ],
   "source": [
    "ls"
   ]
  },
  {
   "cell_type": "code",
   "execution_count": null,
   "id": "2711a48e",
   "metadata": {},
   "outputs": [],
   "source": [
    "# !pip install -r requirements.txt    "
   ]
  },
  {
   "cell_type": "code",
   "execution_count": null,
   "id": "a244811f",
   "metadata": {},
   "outputs": [],
   "source": [
    "!pip install uv\n",
    "!uv pip install datasets --upgrade --system\n",
    "!uv pip install pycocotools scikit-learn mne polars[gpu] open_clip_torch einops wandb braindecode reformer_pytorch --system\n",
    "!uv pip install numpy==2.1.2 --system\n",
    "!uv pip install cudf-cu12 --system\n",
    "!uv pip install scipy==1.11.2 --system"
   ]
  },
  {
   "cell_type": "code",
   "execution_count": null,
   "id": "785a792a",
   "metadata": {},
   "outputs": [],
   "source": [
    "!uv pip install diffusers==0.24.0 --system\n",
    "!uv pip install numpy==2.1.2 --system\n",
    "!uv pip install cudf-cu12 --system\n",
    "!uv pip install scipy==1.11.2 --system\n",
    "!uv pip install huggingface-hub==0.25.0 --system"
   ]
  },
  {
   "cell_type": "code",
   "execution_count": null,
   "id": "180b9491",
   "metadata": {},
   "outputs": [],
   "source": [
    "!uv pip install transformers==4.34.0 --system\n"
   ]
  },
  {
   "cell_type": "code",
   "execution_count": null,
   "id": "f6c6b398",
   "metadata": {},
   "outputs": [],
   "source": [
    "!pip install git+https://github.com/openai/CLIP.git\n"
   ]
  },
  {
   "cell_type": "code",
   "execution_count": 2,
   "id": "b2e04171",
   "metadata": {},
   "outputs": [
    {
     "name": "stdout",
     "output_type": "stream",
     "text": [
      "\u001b[0m\u001b[01;35maccuracy_plots.png\u001b[0m  \u001b[01;34mdcgm\u001b[0m/  \u001b[01;34mEEG_Image_decode\u001b[0m/  main1.ipynb  \u001b[01;35mpos_img_text.png\u001b[0m\n"
     ]
    }
   ],
   "source": [
    "ls"
   ]
  },
  {
   "cell_type": "raw",
   "id": "8d1794e2-785d-4836-987e-ef836503f613",
   "metadata": {},
   "source": [
    "!python3 /home/thagafhh/work/EEG_Image_decode/Generation/ATMS_reconstruction.py \\\n",
    "--gpu cuda:0 \\\n",
    "--output_dir /ibex/user/thagafhh/data/outputs/contrast"
   ]
  },
  {
   "cell_type": "code",
   "execution_count": null,
   "id": "20730366-cc65-4bea-a333-c161a054f6bd",
   "metadata": {},
   "outputs": [],
   "source": [
    "!python3 /home/thagafhh/work/EEG_Image_decode/Generation/ATMS_reconstruction_dreamsim.py --subjects sub-08 \\\n",
    "--gpu cuda:0  --output_dir /ibex/user/thagafhh/data/outputs/contrast"
   ]
  },
  {
   "cell_type": "code",
   "execution_count": null,
   "id": "7193bd71",
   "metadata": {},
   "outputs": [],
   "source": [
    "!python3 /home/thagafhh/work/EEG_Image_decode/Generation/ATMS_reconstruction_og.py --subjects sub-08 \\\n",
    "--gpu cuda:0  --output_dir /ibex/user/thagafhh/data/outputs/contrast"
   ]
  },
  {
   "cell_type": "code",
   "execution_count": null,
   "id": "b617300a",
   "metadata": {},
   "outputs": [],
   "source": [
    "!Generation_metrics_sub8.ipynb"
   ]
  },
  {
   "cell_type": "code",
   "execution_count": null,
   "id": "72d1213d",
   "metadata": {},
   "outputs": [],
   "source": [
    "!python3 train_vae_latent_512_low_level_no_average.py\n"
   ]
  },
  {
   "cell_type": "code",
   "execution_count": null,
   "id": "ada79e12",
   "metadata": {},
   "outputs": [],
   "source": [
    "!tar -xzvf generated_imgs.tar.gz -C generated_imgs\n"
   ]
  },
  {
   "cell_type": "code",
   "execution_count": null,
   "id": "4aaa293b",
   "metadata": {},
   "outputs": [],
   "source": [
    "mkdir gened_images"
   ]
  },
  {
   "cell_type": "code",
   "execution_count": null,
   "id": "4d5acffb",
   "metadata": {},
   "outputs": [],
   "source": [
    "ls"
   ]
  },
  {
   "cell_type": "code",
   "execution_count": 1,
   "id": "b7e8e17b",
   "metadata": {},
   "outputs": [],
   "source": [
    "import dreamsim as dreamsim"
   ]
  },
  {
   "cell_type": "code",
   "execution_count": null,
   "id": "336b19a6-2302-4e3c-99a0-1444d8c79297",
   "metadata": {},
   "outputs": [],
   "source": []
  }
 ],
 "metadata": {
  "kernelspec": {
   "display_name": "Python 3 (ipykernel)",
   "language": "python",
   "name": "python3"
  }
 },
 "nbformat": 4,
 "nbformat_minor": 5
}
